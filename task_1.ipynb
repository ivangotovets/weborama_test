{
 "cells": [
  {
   "cell_type": "code",
   "execution_count": 4,
   "metadata": {
    "collapsed": true
   },
   "outputs": [],
   "source": [
    "import pandas as pd"
   ]
  },
  {
   "cell_type": "code",
   "execution_count": 74,
   "outputs": [],
   "source": [
    "data = pd.read_csv('table.csv', dtype={'id': int})"
   ],
   "metadata": {
    "collapsed": false
   }
  },
  {
   "cell_type": "code",
   "execution_count": 76,
   "outputs": [
    {
     "data": {
      "text/plain": "              cache      id\n0  LfJRTf1jOzll7chy  151550\n1  tsDqYXtvPkd-LoZy  500333\n2  hGPf8k0Ixp_ANvy6  970133\n3  7Tc9S!3u7DeQEDkX  777699\n4  B_xgHecEHrvvVPwB  447845",
      "text/html": "<div>\n<style scoped>\n    .dataframe tbody tr th:only-of-type {\n        vertical-align: middle;\n    }\n\n    .dataframe tbody tr th {\n        vertical-align: top;\n    }\n\n    .dataframe thead th {\n        text-align: right;\n    }\n</style>\n<table border=\"1\" class=\"dataframe\">\n  <thead>\n    <tr style=\"text-align: right;\">\n      <th></th>\n      <th>cache</th>\n      <th>id</th>\n    </tr>\n  </thead>\n  <tbody>\n    <tr>\n      <th>0</th>\n      <td>LfJRTf1jOzll7chy</td>\n      <td>151550</td>\n    </tr>\n    <tr>\n      <th>1</th>\n      <td>tsDqYXtvPkd-LoZy</td>\n      <td>500333</td>\n    </tr>\n    <tr>\n      <th>2</th>\n      <td>hGPf8k0Ixp_ANvy6</td>\n      <td>970133</td>\n    </tr>\n    <tr>\n      <th>3</th>\n      <td>7Tc9S!3u7DeQEDkX</td>\n      <td>777699</td>\n    </tr>\n    <tr>\n      <th>4</th>\n      <td>B_xgHecEHrvvVPwB</td>\n      <td>447845</td>\n    </tr>\n  </tbody>\n</table>\n</div>"
     },
     "execution_count": 76,
     "metadata": {},
     "output_type": "execute_result"
    }
   ],
   "source": [
    "data.head(5)"
   ],
   "metadata": {
    "collapsed": false
   }
  },
  {
   "cell_type": "markdown",
   "source": [],
   "metadata": {
    "collapsed": false
   }
  },
  {
   "cell_type": "code",
   "execution_count": 79,
   "outputs": [],
   "source": [
    "frequency = data.groupby('id')['id'].agg(freq_id='count').sort_values \\\n",
    "    (['freq_id'], ascending=False)"
   ],
   "metadata": {
    "collapsed": false
   }
  },
  {
   "cell_type": "code",
   "execution_count": 80,
   "outputs": [
    {
     "data": {
      "text/plain": "        freq_id\nid             \n979861        6\n98564         6\n544664        6\n251203        6\n808645        6\n427400        6\n501179        6\n670916        6\n253290        6\n336399        6",
      "text/html": "<div>\n<style scoped>\n    .dataframe tbody tr th:only-of-type {\n        vertical-align: middle;\n    }\n\n    .dataframe tbody tr th {\n        vertical-align: top;\n    }\n\n    .dataframe thead th {\n        text-align: right;\n    }\n</style>\n<table border=\"1\" class=\"dataframe\">\n  <thead>\n    <tr style=\"text-align: right;\">\n      <th></th>\n      <th>freq_id</th>\n    </tr>\n    <tr>\n      <th>id</th>\n      <th></th>\n    </tr>\n  </thead>\n  <tbody>\n    <tr>\n      <th>979861</th>\n      <td>6</td>\n    </tr>\n    <tr>\n      <th>98564</th>\n      <td>6</td>\n    </tr>\n    <tr>\n      <th>544664</th>\n      <td>6</td>\n    </tr>\n    <tr>\n      <th>251203</th>\n      <td>6</td>\n    </tr>\n    <tr>\n      <th>808645</th>\n      <td>6</td>\n    </tr>\n    <tr>\n      <th>427400</th>\n      <td>6</td>\n    </tr>\n    <tr>\n      <th>501179</th>\n      <td>6</td>\n    </tr>\n    <tr>\n      <th>670916</th>\n      <td>6</td>\n    </tr>\n    <tr>\n      <th>253290</th>\n      <td>6</td>\n    </tr>\n    <tr>\n      <th>336399</th>\n      <td>6</td>\n    </tr>\n  </tbody>\n</table>\n</div>"
     },
     "execution_count": 80,
     "metadata": {},
     "output_type": "execute_result"
    }
   ],
   "source": [
    "frequency.head(10)"
   ],
   "metadata": {
    "collapsed": false
   }
  },
  {
   "cell_type": "code",
   "execution_count": 96,
   "outputs": [],
   "source": [
    "frequency.to_csv('1.2_frequency.csv', sep=',', encoding='utf-8')"
   ],
   "metadata": {
    "collapsed": false
   }
  },
  {
   "cell_type": "code",
   "execution_count": 97,
   "outputs": [],
   "source": [
    "frequency3 = frequency.loc[frequency['freq_id'] >= 3]"
   ],
   "metadata": {
    "collapsed": false
   }
  },
  {
   "cell_type": "code",
   "execution_count": 98,
   "outputs": [
    {
     "data": {
      "text/plain": "        freq_id\nid             \n979861        6\n98564         6\n544664        6\n251203        6\n808645        6\n427400        6\n501179        6\n670916        6\n253290        6\n336399        6",
      "text/html": "<div>\n<style scoped>\n    .dataframe tbody tr th:only-of-type {\n        vertical-align: middle;\n    }\n\n    .dataframe tbody tr th {\n        vertical-align: top;\n    }\n\n    .dataframe thead th {\n        text-align: right;\n    }\n</style>\n<table border=\"1\" class=\"dataframe\">\n  <thead>\n    <tr style=\"text-align: right;\">\n      <th></th>\n      <th>freq_id</th>\n    </tr>\n    <tr>\n      <th>id</th>\n      <th></th>\n    </tr>\n  </thead>\n  <tbody>\n    <tr>\n      <th>979861</th>\n      <td>6</td>\n    </tr>\n    <tr>\n      <th>98564</th>\n      <td>6</td>\n    </tr>\n    <tr>\n      <th>544664</th>\n      <td>6</td>\n    </tr>\n    <tr>\n      <th>251203</th>\n      <td>6</td>\n    </tr>\n    <tr>\n      <th>808645</th>\n      <td>6</td>\n    </tr>\n    <tr>\n      <th>427400</th>\n      <td>6</td>\n    </tr>\n    <tr>\n      <th>501179</th>\n      <td>6</td>\n    </tr>\n    <tr>\n      <th>670916</th>\n      <td>6</td>\n    </tr>\n    <tr>\n      <th>253290</th>\n      <td>6</td>\n    </tr>\n    <tr>\n      <th>336399</th>\n      <td>6</td>\n    </tr>\n  </tbody>\n</table>\n</div>"
     },
     "execution_count": 98,
     "metadata": {},
     "output_type": "execute_result"
    }
   ],
   "source": [
    "frequency3.head(10)"
   ],
   "metadata": {
    "collapsed": false
   }
  },
  {
   "cell_type": "code",
   "execution_count": 99,
   "outputs": [],
   "source": [
    "frequency3.to_csv('1.1_frequency_by_3.csv', sep=',', encoding='utf-8')"
   ],
   "metadata": {
    "collapsed": false
   }
  },
  {
   "cell_type": "code",
   "execution_count": null,
   "outputs": [],
   "source": [],
   "metadata": {
    "collapsed": false
   }
  }
 ],
 "metadata": {
  "kernelspec": {
   "display_name": "Python 3",
   "language": "python",
   "name": "python3"
  },
  "language_info": {
   "codemirror_mode": {
    "name": "ipython",
    "version": 2
   },
   "file_extension": ".py",
   "mimetype": "text/x-python",
   "name": "python",
   "nbconvert_exporter": "python",
   "pygments_lexer": "ipython2",
   "version": "2.7.6"
  }
 },
 "nbformat": 4,
 "nbformat_minor": 0
}
